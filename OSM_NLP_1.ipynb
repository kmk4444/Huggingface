{
  "nbformat": 4,
  "nbformat_minor": 0,
  "metadata": {
    "colab": {
      "provenance": [],
      "authorship_tag": "ABX9TyNxb3XYSBiw2NB12jYoPIPd",
      "include_colab_link": true
    },
    "kernelspec": {
      "name": "python3",
      "display_name": "Python 3"
    },
    "language_info": {
      "name": "python"
    }
  },
  "cells": [
    {
      "cell_type": "markdown",
      "metadata": {
        "id": "view-in-github",
        "colab_type": "text"
      },
      "source": [
        "<a href=\"https://colab.research.google.com/github/kmk4444/Huggingface/blob/main/OSM_NLP_1.ipynb\" target=\"_parent\"><img src=\"https://colab.research.google.com/assets/colab-badge.svg\" alt=\"Open In Colab\"/></a>"
      ]
    },
    {
      "cell_type": "markdown",
      "source": [
        "# Lesson 2: Natural Language Processing (NLP)"
      ],
      "metadata": {
        "id": "Q3j-4a5y1-tX"
      }
    },
    {
      "cell_type": "markdown",
      "source": [
        "- In the classroom, the libraries are already installed for you.\n",
        "- If you would like to run this code on your own machine, you can install the following:\n",
        "```\n",
        "    !pip install transformers\n",
        "```"
      ],
      "metadata": {
        "id": "D9WLrB8P2Crv"
      }
    },
    {
      "cell_type": "code",
      "execution_count": null,
      "metadata": {
        "id": "h70Sppmy1Pr0"
      },
      "outputs": [],
      "source": [
        "!pip install transformers"
      ]
    },
    {
      "cell_type": "markdown",
      "source": [
        "### Build the `chatbot` pipeline using Transformers Library"
      ],
      "metadata": {
        "id": "TiKRsp8e2KW6"
      }
    },
    {
      "cell_type": "markdown",
      "source": [
        "- Here is some code that suppresses warnng messages."
      ],
      "metadata": {
        "id": "COvJE_Gi2MoT"
      }
    },
    {
      "cell_type": "code",
      "source": [
        "from transformers.utils import logging\n",
        "logging.set_verbosity_error()"
      ],
      "metadata": {
        "id": "3gJ8FI9k2Q26"
      },
      "execution_count": 2,
      "outputs": []
    },
    {
      "cell_type": "code",
      "source": [
        "from transformers import pipeline"
      ],
      "metadata": {
        "id": "7fGp5m6r2YWD"
      },
      "execution_count": 3,
      "outputs": []
    },
    {
      "cell_type": "markdown",
      "source": [
        "- Define the conversation pipeline"
      ],
      "metadata": {
        "id": "80JTCkRo2bge"
      }
    },
    {
      "cell_type": "code",
      "source": [
        "chatbot = pipeline(task=\"text2text-generation\",\n",
        "                   model=\"facebook/blenderbot-400M-distill\")"
      ],
      "metadata": {
        "id": "ROd7CYCG2a_k"
      },
      "execution_count": null,
      "outputs": []
    },
    {
      "cell_type": "markdown",
      "source": [
        "Info about ['blenderbot-400M-distill'](https://huggingface.co/facebook/blenderbot-400M-distill)"
      ],
      "metadata": {
        "id": "EiE3IU3q4Pks"
      }
    },
    {
      "cell_type": "code",
      "source": [
        "user_message=\"\"\"\n",
        "What are some fun activities I can do in the winter?\n",
        "\"\"\""
      ],
      "metadata": {
        "id": "1QBZ5lEF4RRV"
      },
      "execution_count": 7,
      "outputs": []
    },
    {
      "cell_type": "code",
      "source": [
        "response = chatbot(user_message)"
      ],
      "metadata": {
        "id": "q-6OA6xe4Y55"
      },
      "execution_count": 10,
      "outputs": []
    },
    {
      "cell_type": "code",
      "source": [
        "print(response)"
      ],
      "metadata": {
        "colab": {
          "base_uri": "https://localhost:8080/"
        },
        "id": "JGB1JG6s5VD8",
        "outputId": "b3a67851-3b01-4c8a-c648-f78aab6d550a"
      },
      "execution_count": 11,
      "outputs": [
        {
          "output_type": "stream",
          "name": "stdout",
          "text": [
            "[{'generated_text': ' I like snowboarding and skiing.  What do you like to do in winter?'}]\n"
          ]
        }
      ]
    }
  ]
}