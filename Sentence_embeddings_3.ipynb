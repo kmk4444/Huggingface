{
  "nbformat": 4,
  "nbformat_minor": 0,
  "metadata": {
    "colab": {
      "provenance": [],
      "authorship_tag": "ABX9TyO7AsCKbS0el60Lbso1yak4",
      "include_colab_link": true
    },
    "kernelspec": {
      "name": "python3",
      "display_name": "Python 3"
    },
    "language_info": {
      "name": "python"
    }
  },
  "cells": [
    {
      "cell_type": "markdown",
      "metadata": {
        "id": "view-in-github",
        "colab_type": "text"
      },
      "source": [
        "<a href=\"https://colab.research.google.com/github/kmk4444/Huggingface/blob/main/Sentence_embeddings_3.ipynb\" target=\"_parent\"><img src=\"https://colab.research.google.com/assets/colab-badge.svg\" alt=\"Open In Colab\"/></a>"
      ]
    },
    {
      "cell_type": "markdown",
      "source": [
        "# Lesson 4: Sentence Embeddings"
      ],
      "metadata": {
        "id": "_fqkIYXdGoE9"
      }
    },
    {
      "cell_type": "markdown",
      "source": [
        "- In the classroom, the libraries are already installed for you.\n",
        "- If you would like to run this code on your own machine, you can install the following:\n",
        "```\n",
        "    !pip install sentence-transformers\n",
        "```"
      ],
      "metadata": {
        "id": "9HiZIR0hGqjt"
      }
    },
    {
      "cell_type": "code",
      "source": [
        "!pip install sentence-transformers"
      ],
      "metadata": {
        "id": "gpyC5Pn7Grr1"
      },
      "execution_count": null,
      "outputs": []
    },
    {
      "cell_type": "markdown",
      "source": [
        "- Here is some code that suppresses warning messages."
      ],
      "metadata": {
        "id": "IA64ZGmzdy9O"
      }
    },
    {
      "cell_type": "code",
      "execution_count": 2,
      "metadata": {
        "id": "iP5Y_txeF9wf"
      },
      "outputs": [],
      "source": [
        "from sentence_transformers import SentenceTransformer"
      ]
    },
    {
      "cell_type": "code",
      "source": [
        "model = SentenceTransformer(\"all-MiniLM-L6-v2\")"
      ],
      "metadata": {
        "id": "nVt84iRSd8rp"
      },
      "execution_count": null,
      "outputs": []
    },
    {
      "cell_type": "markdown",
      "source": [
        "More info on [all-MiniLM-L6-v2](https://huggingface.co/sentence-transformers/all-MiniLM-L6-v2)."
      ],
      "metadata": {
        "id": "hgTE2XIJeq7g"
      }
    },
    {
      "cell_type": "code",
      "source": [
        "sentences1 = ['The cat sits outside',\n",
        "              'A man is playing guitar',\n",
        "              'The movies are awesome']"
      ],
      "metadata": {
        "id": "CIG3LzHHesfp"
      },
      "execution_count": 4,
      "outputs": []
    },
    {
      "cell_type": "code",
      "source": [
        "embeddings1=model.encode(sentences1, convert_to_tensor=True)"
      ],
      "metadata": {
        "id": "auxS6LOFevSq"
      },
      "execution_count": 5,
      "outputs": []
    },
    {
      "cell_type": "code",
      "source": [
        "embeddings1"
      ],
      "metadata": {
        "colab": {
          "base_uri": "https://localhost:8080/"
        },
        "id": "XvwKui5Re6Ia",
        "outputId": "788a29f2-f5d4-4483-d369-ffa70995344f"
      },
      "execution_count": 7,
      "outputs": [
        {
          "output_type": "execute_result",
          "data": {
            "text/plain": [
              "tensor([[ 0.1392,  0.0030,  0.0470,  ...,  0.0641, -0.0163,  0.0636],\n",
              "        [ 0.0227, -0.0014, -0.0056,  ..., -0.0225,  0.0846, -0.0283],\n",
              "        [-0.1043, -0.0628,  0.0093,  ...,  0.0020,  0.0653, -0.0150]])"
            ]
          },
          "metadata": {},
          "execution_count": 7
        }
      ]
    },
    {
      "cell_type": "code",
      "source": [
        "sentences2 = ['The dog plays in the garden',\n",
        "              'A woman watches TV',\n",
        "              'The new movie is so great']"
      ],
      "metadata": {
        "id": "i-M1JTIje_RF"
      },
      "execution_count": 8,
      "outputs": []
    },
    {
      "cell_type": "code",
      "source": [
        "embeddings2 = model.encode(sentences2, convert_to_tensor=True)"
      ],
      "metadata": {
        "id": "8HIkfqJefH3C"
      },
      "execution_count": 11,
      "outputs": []
    },
    {
      "cell_type": "code",
      "source": [
        "print(embeddings2)"
      ],
      "metadata": {
        "colab": {
          "base_uri": "https://localhost:8080/"
        },
        "id": "XGdaqSMlfNb1",
        "outputId": "c8e0b9cf-306a-4cf6-addf-fa9e2e473194"
      },
      "execution_count": 12,
      "outputs": [
        {
          "output_type": "stream",
          "name": "stdout",
          "text": [
            "tensor([[ 0.0163, -0.0700,  0.0384,  ...,  0.0447,  0.0254, -0.0023],\n",
            "        [ 0.0054, -0.0920,  0.0140,  ...,  0.0167, -0.0086, -0.0424],\n",
            "        [-0.0842, -0.0592, -0.0010,  ..., -0.0157,  0.0764,  0.0389]])\n"
          ]
        }
      ]
    },
    {
      "cell_type": "markdown",
      "source": [
        "- Calculate the cosine similarity between two sentences as measure of how similar they are to each other."
      ],
      "metadata": {
        "id": "pXdfh7ZffywL"
      }
    },
    {
      "cell_type": "code",
      "source": [
        "from sentence_transformers import util"
      ],
      "metadata": {
        "id": "-jJpzlenf6cc"
      },
      "execution_count": 13,
      "outputs": []
    },
    {
      "cell_type": "code",
      "source": [
        "cosine_scores = util.cos_sim(embeddings1,embeddings2)"
      ],
      "metadata": {
        "id": "Fj7WpKP4f98r"
      },
      "execution_count": 14,
      "outputs": []
    },
    {
      "cell_type": "code",
      "source": [
        "print(cosine_scores)"
      ],
      "metadata": {
        "colab": {
          "base_uri": "https://localhost:8080/"
        },
        "id": "uO58CpeigPUn",
        "outputId": "0111f1c1-12f0-4a74-e5ed-448a8f95e55d"
      },
      "execution_count": 15,
      "outputs": [
        {
          "output_type": "stream",
          "name": "stdout",
          "text": [
            "tensor([[ 0.2838,  0.1310, -0.0029],\n",
            "        [ 0.2277, -0.0327, -0.0136],\n",
            "        [-0.0124, -0.0465,  0.6571]])\n"
          ]
        }
      ]
    },
    {
      "cell_type": "code",
      "source": [
        "for i in range(len(sentences1)):\n",
        "    print(\"{} \\t\\t {} \\t\\t Score: {:.4f}\".format(sentences1[i],\n",
        "                                                 sentences2[i],\n",
        "                                                 cosine_scores[i][i]))"
      ],
      "metadata": {
        "colab": {
          "base_uri": "https://localhost:8080/"
        },
        "id": "H1FwgwhhgUZJ",
        "outputId": "a6d308f6-f1df-4d24-df20-d1c35aa41c59"
      },
      "execution_count": 16,
      "outputs": [
        {
          "output_type": "stream",
          "name": "stdout",
          "text": [
            "The cat sits outside \t\t The dog plays in the garden \t\t Score: 0.2838\n",
            "A man is playing guitar \t\t A woman watches TV \t\t Score: -0.0327\n",
            "The movies are awesome \t\t The new movie is so great \t\t Score: 0.6571\n"
          ]
        }
      ]
    }
  ]
}