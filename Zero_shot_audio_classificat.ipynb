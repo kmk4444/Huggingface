{
  "nbformat": 4,
  "nbformat_minor": 0,
  "metadata": {
    "colab": {
      "provenance": [],
      "authorship_tag": "ABX9TyMxjAfrNrEclJ1EVVinu1Wc",
      "include_colab_link": true
    },
    "kernelspec": {
      "name": "python3",
      "display_name": "Python 3"
    },
    "language_info": {
      "name": "python"
    }
  },
  "cells": [
    {
      "cell_type": "markdown",
      "metadata": {
        "id": "view-in-github",
        "colab_type": "text"
      },
      "source": [
        "<a href=\"https://colab.research.google.com/github/kmk4444/Huggingface/blob/main/Zero_shot_audio_classificat.ipynb\" target=\"_parent\"><img src=\"https://colab.research.google.com/assets/colab-badge.svg\" alt=\"Open In Colab\"/></a>"
      ]
    },
    {
      "cell_type": "markdown",
      "source": [
        "# Lesson 5: Zero-Shot Audio Classification"
      ],
      "metadata": {
        "id": "JFV-ujD0b8tg"
      }
    },
    {
      "cell_type": "code",
      "execution_count": null,
      "metadata": {
        "id": "AxcRz5yoWVtN"
      },
      "outputs": [],
      "source": [
        "!pip install transformers\n",
        "!pip install datasets\n",
        "!pip install soundfile\n",
        "!pip install librosa"
      ]
    },
    {
      "cell_type": "markdown",
      "source": [
        "- Here is some code that suppresses warning messages."
      ],
      "metadata": {
        "id": "571kXjGzcDCv"
      }
    },
    {
      "cell_type": "code",
      "source": [
        "from transformers.utils import logging\n",
        "logging.set_verbosity_error()"
      ],
      "metadata": {
        "id": "kJR-PSxfcD1Y"
      },
      "execution_count": 10,
      "outputs": []
    },
    {
      "cell_type": "markdown",
      "source": [
        "### Prepare the dataset of audio recordings"
      ],
      "metadata": {
        "id": "YLQqFRQkcFky"
      }
    },
    {
      "cell_type": "code",
      "source": [
        "from datasets import load_dataset, load_from_disk\n",
        "\n",
        "# This dataset is a collection of different sounds of 5 seconds\n",
        "dataset = load_dataset(\"ashraq/esc50\",\n",
        "                      split=\"train[0:10]\")\n",
        "#dataset = load_from_disk(\"./models/ashraq/esc50/train\")"
      ],
      "metadata": {
        "colab": {
          "base_uri": "https://localhost:8080/"
        },
        "id": "3PygDzkYcGNZ",
        "outputId": "106b2012-c23e-4440-979a-eea46a2f810a"
      },
      "execution_count": 11,
      "outputs": [
        {
          "output_type": "stream",
          "name": "stderr",
          "text": [
            "Repo card metadata block was not found. Setting CardData to empty.\n",
            "WARNING:huggingface_hub.repocard:Repo card metadata block was not found. Setting CardData to empty.\n"
          ]
        }
      ]
    },
    {
      "cell_type": "code",
      "source": [
        "audio_sample = dataset[0]"
      ],
      "metadata": {
        "id": "2jNu_SdJcJGr"
      },
      "execution_count": 12,
      "outputs": []
    },
    {
      "cell_type": "code",
      "source": [
        "audio_sample"
      ],
      "metadata": {
        "colab": {
          "base_uri": "https://localhost:8080/"
        },
        "id": "EyUNNSrScKVF",
        "outputId": "597a009b-f603-466f-85df-74d0d4a2bc5b"
      },
      "execution_count": 13,
      "outputs": [
        {
          "output_type": "execute_result",
          "data": {
            "text/plain": [
              "{'filename': '1-100032-A-0.wav',\n",
              " 'fold': 1,\n",
              " 'target': 0,\n",
              " 'category': 'dog',\n",
              " 'esc10': True,\n",
              " 'src_file': 100032,\n",
              " 'take': 'A',\n",
              " 'audio': {'path': None,\n",
              "  'array': array([0., 0., 0., ..., 0., 0., 0.]),\n",
              "  'sampling_rate': 44100}}"
            ]
          },
          "metadata": {},
          "execution_count": 13
        }
      ]
    },
    {
      "cell_type": "code",
      "source": [
        "from IPython.display import Audio as IPythonAudio\n",
        "IPythonAudio(audio_sample[\"audio\"][\"array\"],\n",
        "             rate=audio_sample[\"audio\"][\"sampling_rate\"])"
      ],
      "metadata": {
        "id": "zP2jUhubcLVo"
      },
      "execution_count": null,
      "outputs": []
    },
    {
      "cell_type": "markdown",
      "source": [
        "### Build the `audio classification` pipeline using 🤗 Transformers Library"
      ],
      "metadata": {
        "id": "EpdkWdRScM2n"
      }
    },
    {
      "cell_type": "code",
      "source": [
        "from transformers import pipeline"
      ],
      "metadata": {
        "id": "mk415PaecN1n"
      },
      "execution_count": null,
      "outputs": []
    },
    {
      "cell_type": "code",
      "source": [
        "zero_shot_classifier = pipeline(\n",
        "    task=\"zero-shot-audio-classification\",\n",
        "    model=\"laion/clap-htsat-unfused\")"
      ],
      "metadata": {
        "id": "JhuYthplcOsm"
      },
      "execution_count": 15,
      "outputs": []
    },
    {
      "cell_type": "markdown",
      "source": [
        "More info on [laion/clap-htsat-unfused](https://huggingface.co/laion/clap-htsat-unfused)."
      ],
      "metadata": {
        "id": "1GxyaKTScSOo"
      }
    },
    {
      "cell_type": "markdown",
      "source": [
        "### Sampling Rate for Transformer Models\n",
        "- How long does 1 second of high resolution audio (192,000 Hz) appear to the Whisper model (which is trained to expect audio files at 16,000 Hz)?"
      ],
      "metadata": {
        "id": "RaaNDSYecTdh"
      }
    },
    {
      "cell_type": "code",
      "source": [
        "- The 1 second of high resolution audio appears to the model as if it is 12 seconds of audio.\n"
      ],
      "metadata": {
        "id": "Lce3e9b1cjwF"
      },
      "execution_count": null,
      "outputs": []
    },
    {
      "cell_type": "code",
      "source": [
        "(1 * 192000) / 16000"
      ],
      "metadata": {
        "colab": {
          "base_uri": "https://localhost:8080/"
        },
        "id": "9y-WaCBxcTHq",
        "outputId": "49e0e021-8298-4c91-af03-4ebae128325e"
      },
      "execution_count": 16,
      "outputs": [
        {
          "output_type": "execute_result",
          "data": {
            "text/plain": [
              "12.0"
            ]
          },
          "metadata": {},
          "execution_count": 16
        }
      ]
    },
    {
      "cell_type": "markdown",
      "source": [
        "- How about 5 seconds of audio?"
      ],
      "metadata": {
        "id": "-vZoKUO1cheB"
      }
    },
    {
      "cell_type": "code",
      "source": [
        "(5 * 192000) / 16000"
      ],
      "metadata": {
        "colab": {
          "base_uri": "https://localhost:8080/"
        },
        "id": "_nsPBZzgcmjp",
        "outputId": "fd66e863-3aef-42dc-9624-d4c6a4c86ab3"
      },
      "execution_count": 17,
      "outputs": [
        {
          "output_type": "execute_result",
          "data": {
            "text/plain": [
              "60.0"
            ]
          },
          "metadata": {},
          "execution_count": 17
        }
      ]
    },
    {
      "cell_type": "markdown",
      "source": [
        "- 5 seconds of high resolution audio appears to the model as if it is 60 seconds of audio."
      ],
      "metadata": {
        "id": "suLKaOiAcn5f"
      }
    },
    {
      "cell_type": "code",
      "source": [
        "zero_shot_classifier.feature_extractor.sampling_rate"
      ],
      "metadata": {
        "colab": {
          "base_uri": "https://localhost:8080/"
        },
        "id": "hTcDHkeXcozI",
        "outputId": "e64e3abe-803c-4b53-e59b-c66b353ecf02"
      },
      "execution_count": 18,
      "outputs": [
        {
          "output_type": "execute_result",
          "data": {
            "text/plain": [
              "48000"
            ]
          },
          "metadata": {},
          "execution_count": 18
        }
      ]
    },
    {
      "cell_type": "code",
      "source": [
        "audio_sample[\"audio\"][\"sampling_rate\"]"
      ],
      "metadata": {
        "colab": {
          "base_uri": "https://localhost:8080/"
        },
        "id": "8sJkqpBVcwsG",
        "outputId": "199a39b9-96c1-4fd5-c95c-9e96844ab45a"
      },
      "execution_count": 19,
      "outputs": [
        {
          "output_type": "execute_result",
          "data": {
            "text/plain": [
              "44100"
            ]
          },
          "metadata": {},
          "execution_count": 19
        }
      ]
    },
    {
      "cell_type": "markdown",
      "source": [
        "* Set the correct sampling rate for the input and the model."
      ],
      "metadata": {
        "id": "a9fCUImzc175"
      }
    },
    {
      "cell_type": "code",
      "source": [
        "from datasets import Audio\n",
        "datsaset = dataset.cast_column(\n",
        "    \"audio\",\n",
        "    Audio(sampling_rate=48_000))"
      ],
      "metadata": {
        "id": "m1nn3mkFc2ma"
      },
      "execution_count": 20,
      "outputs": []
    },
    {
      "cell_type": "code",
      "source": [
        "audio_sample = dataset[0]"
      ],
      "metadata": {
        "id": "VpBs29fldEDM"
      },
      "execution_count": 21,
      "outputs": []
    },
    {
      "cell_type": "code",
      "source": [
        "audio_sample"
      ],
      "metadata": {
        "colab": {
          "base_uri": "https://localhost:8080/"
        },
        "id": "sB-Lu7QVdHLG",
        "outputId": "babb8075-a370-4994-d7a8-ac025a83d21f"
      },
      "execution_count": 22,
      "outputs": [
        {
          "output_type": "execute_result",
          "data": {
            "text/plain": [
              "{'filename': '1-100032-A-0.wav',\n",
              " 'fold': 1,\n",
              " 'target': 0,\n",
              " 'category': 'dog',\n",
              " 'esc10': True,\n",
              " 'src_file': 100032,\n",
              " 'take': 'A',\n",
              " 'audio': {'path': None,\n",
              "  'array': array([0., 0., 0., ..., 0., 0., 0.]),\n",
              "  'sampling_rate': 44100}}"
            ]
          },
          "metadata": {},
          "execution_count": 22
        }
      ]
    },
    {
      "cell_type": "code",
      "source": [
        "candidate_labels = [\"Sound of a dog\",\n",
        "                    \"Sound of vacuum cleaner\"]"
      ],
      "metadata": {
        "id": "z3p4IBZPdQP0"
      },
      "execution_count": 23,
      "outputs": []
    },
    {
      "cell_type": "code",
      "source": [
        "zero_shot_classifier(audio_sample[\"audio\"][\"array\"],\n",
        "                     candidate_labels=candidate_labels)"
      ],
      "metadata": {
        "colab": {
          "base_uri": "https://localhost:8080/"
        },
        "id": "ibG51-SNdRCU",
        "outputId": "e9fb0a32-3143-46d9-a507-95c69a70844e"
      },
      "execution_count": 24,
      "outputs": [
        {
          "output_type": "execute_result",
          "data": {
            "text/plain": [
              "[{'score': 0.9997242093086243, 'label': 'Sound of a dog'},\n",
              " {'score': 0.00027583082555793226, 'label': 'Sound of vacuum cleaner'}]"
            ]
          },
          "metadata": {},
          "execution_count": 24
        }
      ]
    },
    {
      "cell_type": "code",
      "source": [
        "candidate_labels = [\"Sound of a child crying\",\n",
        "                    \"Sound of vacuum cleaner\",\n",
        "                    \"Sound of a bird singing\",\n",
        "                    \"Sound of an airplane\"]"
      ],
      "metadata": {
        "id": "wJJZizsBdY9M"
      },
      "execution_count": 25,
      "outputs": []
    },
    {
      "cell_type": "code",
      "source": [
        "print(audio_sample[\"audio\"][\"array\"])"
      ],
      "metadata": {
        "colab": {
          "base_uri": "https://localhost:8080/"
        },
        "id": "GQKzwiHKdb29",
        "outputId": "8bd8d78b-12d5-484a-e7d1-ffdc9bf2fbbc"
      },
      "execution_count": 28,
      "outputs": [
        {
          "output_type": "stream",
          "name": "stdout",
          "text": [
            "[0. 0. 0. ... 0. 0. 0.]\n"
          ]
        }
      ]
    },
    {
      "cell_type": "code",
      "source": [
        "zero_shot_classifier(audio_sample[\"audio\"][\"array\"],\n",
        "                     candidate_labels=candidate_labels)"
      ],
      "metadata": {
        "colab": {
          "base_uri": "https://localhost:8080/"
        },
        "id": "lzBs0dIGdZ9O",
        "outputId": "b6bee45c-2166-4ce9-d8ce-c773af1746d1"
      },
      "execution_count": 26,
      "outputs": [
        {
          "output_type": "execute_result",
          "data": {
            "text/plain": [
              "[{'score': 0.6457511782646179, 'label': 'Sound of a bird singing'},\n",
              " {'score': 0.15903766453266144, 'label': 'Sound of vacuum cleaner'},\n",
              " {'score': 0.1563412994146347, 'label': 'Sound of an airplane'},\n",
              " {'score': 0.038869865238666534, 'label': 'Sound of a child crying'}]"
            ]
          },
          "metadata": {},
          "execution_count": 26
        }
      ]
    }
  ]
}